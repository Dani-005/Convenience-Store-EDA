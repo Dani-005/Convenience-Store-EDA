{
 "cells": [
  {
   "cell_type": "code",
   "execution_count": 54,
   "metadata": {},
   "outputs": [],
   "source": [
    "import pandas as pd\n",
    "import numpy as np\n",
    "import seaborn as sns\n",
    "import matplotlib.pyplot as plt\n",
    "import itertools"
   ]
  },
  {
   "cell_type": "markdown",
   "metadata": {},
   "source": [
    "# Data for Convenience Store Purchases at Train Stations or Malls"
   ]
  },
  {
   "cell_type": "markdown",
   "metadata": {},
   "source": [
    "Analysis of convenience store purchases by gender, age, membership, location.  \n",
    "Analysis of purchases of different types of food items."
   ]
  },
  {
   "cell_type": "code",
   "execution_count": 2,
   "metadata": {},
   "outputs": [],
   "source": [
    "cs = pd.read_csv('Documents/ConvenienceStore.csv')"
   ]
  },
  {
   "cell_type": "code",
   "execution_count": 3,
   "metadata": {},
   "outputs": [
    {
     "data": {
      "text/html": [
       "<div>\n",
       "<style scoped>\n",
       "    .dataframe tbody tr th:only-of-type {\n",
       "        vertical-align: middle;\n",
       "    }\n",
       "\n",
       "    .dataframe tbody tr th {\n",
       "        vertical-align: top;\n",
       "    }\n",
       "\n",
       "    .dataframe thead th {\n",
       "        text-align: right;\n",
       "    }\n",
       "</style>\n",
       "<table border=\"1\" class=\"dataframe\">\n",
       "  <thead>\n",
       "    <tr style=\"text-align: right;\">\n",
       "      <th></th>\n",
       "      <th>Coffee &amp; Café</th>\n",
       "      <th>Big Gulp</th>\n",
       "      <th>Bottled &amp; Canned</th>\n",
       "      <th>Beer</th>\n",
       "      <th>Wine</th>\n",
       "      <th>Slurpee</th>\n",
       "      <th>Locally Made Meals</th>\n",
       "      <th>Snacks</th>\n",
       "      <th>Pizza</th>\n",
       "      <th>Breakfast</th>\n",
       "      <th>Barkery</th>\n",
       "      <th>Sandwiches</th>\n",
       "      <th>Healthy Choices</th>\n",
       "      <th>Hot Foods</th>\n",
       "      <th>Gender</th>\n",
       "      <th>Age</th>\n",
       "      <th>Member</th>\n",
       "      <th>Location</th>\n",
       "    </tr>\n",
       "  </thead>\n",
       "  <tbody>\n",
       "    <tr>\n",
       "      <th>0</th>\n",
       "      <td>0</td>\n",
       "      <td>1</td>\n",
       "      <td>1</td>\n",
       "      <td>1</td>\n",
       "      <td>0</td>\n",
       "      <td>1</td>\n",
       "      <td>1</td>\n",
       "      <td>1</td>\n",
       "      <td>0</td>\n",
       "      <td>1</td>\n",
       "      <td>1</td>\n",
       "      <td>1</td>\n",
       "      <td>0</td>\n",
       "      <td>0</td>\n",
       "      <td>Male</td>\n",
       "      <td>12 to 21</td>\n",
       "      <td>No</td>\n",
       "      <td>Train Stations</td>\n",
       "    </tr>\n",
       "    <tr>\n",
       "      <th>1</th>\n",
       "      <td>1</td>\n",
       "      <td>0</td>\n",
       "      <td>1</td>\n",
       "      <td>0</td>\n",
       "      <td>0</td>\n",
       "      <td>0</td>\n",
       "      <td>0</td>\n",
       "      <td>1</td>\n",
       "      <td>0</td>\n",
       "      <td>0</td>\n",
       "      <td>0</td>\n",
       "      <td>1</td>\n",
       "      <td>1</td>\n",
       "      <td>1</td>\n",
       "      <td>Female</td>\n",
       "      <td>32 to 41</td>\n",
       "      <td>Yes</td>\n",
       "      <td>Train Stations</td>\n",
       "    </tr>\n",
       "    <tr>\n",
       "      <th>2</th>\n",
       "      <td>0</td>\n",
       "      <td>0</td>\n",
       "      <td>1</td>\n",
       "      <td>1</td>\n",
       "      <td>0</td>\n",
       "      <td>1</td>\n",
       "      <td>1</td>\n",
       "      <td>1</td>\n",
       "      <td>1</td>\n",
       "      <td>1</td>\n",
       "      <td>0</td>\n",
       "      <td>1</td>\n",
       "      <td>0</td>\n",
       "      <td>0</td>\n",
       "      <td>Female</td>\n",
       "      <td>42 to 51</td>\n",
       "      <td>Yes</td>\n",
       "      <td>Train Stations</td>\n",
       "    </tr>\n",
       "    <tr>\n",
       "      <th>3</th>\n",
       "      <td>0</td>\n",
       "      <td>0</td>\n",
       "      <td>0</td>\n",
       "      <td>0</td>\n",
       "      <td>0</td>\n",
       "      <td>0</td>\n",
       "      <td>1</td>\n",
       "      <td>0</td>\n",
       "      <td>0</td>\n",
       "      <td>1</td>\n",
       "      <td>1</td>\n",
       "      <td>1</td>\n",
       "      <td>0</td>\n",
       "      <td>1</td>\n",
       "      <td>Male</td>\n",
       "      <td>12 to 21</td>\n",
       "      <td>No</td>\n",
       "      <td>Train Stations</td>\n",
       "    </tr>\n",
       "    <tr>\n",
       "      <th>4</th>\n",
       "      <td>0</td>\n",
       "      <td>1</td>\n",
       "      <td>0</td>\n",
       "      <td>0</td>\n",
       "      <td>0</td>\n",
       "      <td>1</td>\n",
       "      <td>0</td>\n",
       "      <td>1</td>\n",
       "      <td>0</td>\n",
       "      <td>1</td>\n",
       "      <td>1</td>\n",
       "      <td>1</td>\n",
       "      <td>1</td>\n",
       "      <td>0</td>\n",
       "      <td>Male</td>\n",
       "      <td>12 to 21</td>\n",
       "      <td>No</td>\n",
       "      <td>Train Stations</td>\n",
       "    </tr>\n",
       "  </tbody>\n",
       "</table>\n",
       "</div>"
      ],
      "text/plain": [
       "   Coffee & Café  Big Gulp  Bottled & Canned  Beer  Wine  Slurpee  \\\n",
       "0              0         1                 1     1     0        1   \n",
       "1              1         0                 1     0     0        0   \n",
       "2              0         0                 1     1     0        1   \n",
       "3              0         0                 0     0     0        0   \n",
       "4              0         1                 0     0     0        1   \n",
       "\n",
       "   Locally Made Meals  Snacks  Pizza  Breakfast  Barkery  Sandwiches  \\\n",
       "0                   1       1      0          1        1           1   \n",
       "1                   0       1      0          0        0           1   \n",
       "2                   1       1      1          1        0           1   \n",
       "3                   1       0      0          1        1           1   \n",
       "4                   0       1      0          1        1           1   \n",
       "\n",
       "   Healthy Choices  Hot Foods  Gender       Age Member        Location  \n",
       "0                0          0    Male  12 to 21     No  Train Stations  \n",
       "1                1          1  Female  32 to 41    Yes  Train Stations  \n",
       "2                0          0  Female  42 to 51    Yes  Train Stations  \n",
       "3                0          1    Male  12 to 21     No  Train Stations  \n",
       "4                1          0    Male  12 to 21     No  Train Stations  "
      ]
     },
     "execution_count": 3,
     "metadata": {},
     "output_type": "execute_result"
    }
   ],
   "source": [
    "cs.head()"
   ]
  },
  {
   "cell_type": "code",
   "execution_count": 4,
   "metadata": {},
   "outputs": [
    {
     "data": {
      "text/html": [
       "<div>\n",
       "<style scoped>\n",
       "    .dataframe tbody tr th:only-of-type {\n",
       "        vertical-align: middle;\n",
       "    }\n",
       "\n",
       "    .dataframe tbody tr th {\n",
       "        vertical-align: top;\n",
       "    }\n",
       "\n",
       "    .dataframe thead th {\n",
       "        text-align: right;\n",
       "    }\n",
       "</style>\n",
       "<table border=\"1\" class=\"dataframe\">\n",
       "  <thead>\n",
       "    <tr style=\"text-align: right;\">\n",
       "      <th></th>\n",
       "      <th>Coffee &amp; Café</th>\n",
       "      <th>Big Gulp</th>\n",
       "      <th>Bottled &amp; Canned</th>\n",
       "      <th>Beer</th>\n",
       "      <th>Wine</th>\n",
       "      <th>Slurpee</th>\n",
       "      <th>Locally Made Meals</th>\n",
       "      <th>Snacks</th>\n",
       "      <th>Pizza</th>\n",
       "      <th>Breakfast</th>\n",
       "      <th>Barkery</th>\n",
       "      <th>Sandwiches</th>\n",
       "      <th>Healthy Choices</th>\n",
       "      <th>Hot Foods</th>\n",
       "    </tr>\n",
       "  </thead>\n",
       "  <tbody>\n",
       "    <tr>\n",
       "      <th>count</th>\n",
       "      <td>786.000000</td>\n",
       "      <td>786.000000</td>\n",
       "      <td>786.000000</td>\n",
       "      <td>786.000000</td>\n",
       "      <td>786.000000</td>\n",
       "      <td>786.000000</td>\n",
       "      <td>786.000000</td>\n",
       "      <td>786.000000</td>\n",
       "      <td>786.000000</td>\n",
       "      <td>786.000000</td>\n",
       "      <td>786.000000</td>\n",
       "      <td>786.000000</td>\n",
       "      <td>786.000000</td>\n",
       "      <td>786.000000</td>\n",
       "    </tr>\n",
       "    <tr>\n",
       "      <th>mean</th>\n",
       "      <td>0.517812</td>\n",
       "      <td>0.492366</td>\n",
       "      <td>0.472010</td>\n",
       "      <td>0.469466</td>\n",
       "      <td>0.486005</td>\n",
       "      <td>0.498728</td>\n",
       "      <td>0.492366</td>\n",
       "      <td>0.492366</td>\n",
       "      <td>0.492366</td>\n",
       "      <td>0.508906</td>\n",
       "      <td>0.484733</td>\n",
       "      <td>0.484733</td>\n",
       "      <td>0.520356</td>\n",
       "      <td>0.529262</td>\n",
       "    </tr>\n",
       "    <tr>\n",
       "      <th>std</th>\n",
       "      <td>0.500001</td>\n",
       "      <td>0.500260</td>\n",
       "      <td>0.499534</td>\n",
       "      <td>0.499385</td>\n",
       "      <td>0.500122</td>\n",
       "      <td>0.500317</td>\n",
       "      <td>0.500260</td>\n",
       "      <td>0.500260</td>\n",
       "      <td>0.500260</td>\n",
       "      <td>0.500239</td>\n",
       "      <td>0.500085</td>\n",
       "      <td>0.500085</td>\n",
       "      <td>0.499904</td>\n",
       "      <td>0.499461</td>\n",
       "    </tr>\n",
       "    <tr>\n",
       "      <th>min</th>\n",
       "      <td>0.000000</td>\n",
       "      <td>0.000000</td>\n",
       "      <td>0.000000</td>\n",
       "      <td>0.000000</td>\n",
       "      <td>0.000000</td>\n",
       "      <td>0.000000</td>\n",
       "      <td>0.000000</td>\n",
       "      <td>0.000000</td>\n",
       "      <td>0.000000</td>\n",
       "      <td>0.000000</td>\n",
       "      <td>0.000000</td>\n",
       "      <td>0.000000</td>\n",
       "      <td>0.000000</td>\n",
       "      <td>0.000000</td>\n",
       "    </tr>\n",
       "    <tr>\n",
       "      <th>25%</th>\n",
       "      <td>0.000000</td>\n",
       "      <td>0.000000</td>\n",
       "      <td>0.000000</td>\n",
       "      <td>0.000000</td>\n",
       "      <td>0.000000</td>\n",
       "      <td>0.000000</td>\n",
       "      <td>0.000000</td>\n",
       "      <td>0.000000</td>\n",
       "      <td>0.000000</td>\n",
       "      <td>0.000000</td>\n",
       "      <td>0.000000</td>\n",
       "      <td>0.000000</td>\n",
       "      <td>0.000000</td>\n",
       "      <td>0.000000</td>\n",
       "    </tr>\n",
       "    <tr>\n",
       "      <th>50%</th>\n",
       "      <td>1.000000</td>\n",
       "      <td>0.000000</td>\n",
       "      <td>0.000000</td>\n",
       "      <td>0.000000</td>\n",
       "      <td>0.000000</td>\n",
       "      <td>0.000000</td>\n",
       "      <td>0.000000</td>\n",
       "      <td>0.000000</td>\n",
       "      <td>0.000000</td>\n",
       "      <td>1.000000</td>\n",
       "      <td>0.000000</td>\n",
       "      <td>0.000000</td>\n",
       "      <td>1.000000</td>\n",
       "      <td>1.000000</td>\n",
       "    </tr>\n",
       "    <tr>\n",
       "      <th>75%</th>\n",
       "      <td>1.000000</td>\n",
       "      <td>1.000000</td>\n",
       "      <td>1.000000</td>\n",
       "      <td>1.000000</td>\n",
       "      <td>1.000000</td>\n",
       "      <td>1.000000</td>\n",
       "      <td>1.000000</td>\n",
       "      <td>1.000000</td>\n",
       "      <td>1.000000</td>\n",
       "      <td>1.000000</td>\n",
       "      <td>1.000000</td>\n",
       "      <td>1.000000</td>\n",
       "      <td>1.000000</td>\n",
       "      <td>1.000000</td>\n",
       "    </tr>\n",
       "    <tr>\n",
       "      <th>max</th>\n",
       "      <td>1.000000</td>\n",
       "      <td>1.000000</td>\n",
       "      <td>1.000000</td>\n",
       "      <td>1.000000</td>\n",
       "      <td>1.000000</td>\n",
       "      <td>1.000000</td>\n",
       "      <td>1.000000</td>\n",
       "      <td>1.000000</td>\n",
       "      <td>1.000000</td>\n",
       "      <td>1.000000</td>\n",
       "      <td>1.000000</td>\n",
       "      <td>1.000000</td>\n",
       "      <td>1.000000</td>\n",
       "      <td>1.000000</td>\n",
       "    </tr>\n",
       "  </tbody>\n",
       "</table>\n",
       "</div>"
      ],
      "text/plain": [
       "       Coffee & Café    Big Gulp  Bottled & Canned        Beer        Wine  \\\n",
       "count     786.000000  786.000000        786.000000  786.000000  786.000000   \n",
       "mean        0.517812    0.492366          0.472010    0.469466    0.486005   \n",
       "std         0.500001    0.500260          0.499534    0.499385    0.500122   \n",
       "min         0.000000    0.000000          0.000000    0.000000    0.000000   \n",
       "25%         0.000000    0.000000          0.000000    0.000000    0.000000   \n",
       "50%         1.000000    0.000000          0.000000    0.000000    0.000000   \n",
       "75%         1.000000    1.000000          1.000000    1.000000    1.000000   \n",
       "max         1.000000    1.000000          1.000000    1.000000    1.000000   \n",
       "\n",
       "          Slurpee  Locally Made Meals      Snacks       Pizza   Breakfast  \\\n",
       "count  786.000000          786.000000  786.000000  786.000000  786.000000   \n",
       "mean     0.498728            0.492366    0.492366    0.492366    0.508906   \n",
       "std      0.500317            0.500260    0.500260    0.500260    0.500239   \n",
       "min      0.000000            0.000000    0.000000    0.000000    0.000000   \n",
       "25%      0.000000            0.000000    0.000000    0.000000    0.000000   \n",
       "50%      0.000000            0.000000    0.000000    0.000000    1.000000   \n",
       "75%      1.000000            1.000000    1.000000    1.000000    1.000000   \n",
       "max      1.000000            1.000000    1.000000    1.000000    1.000000   \n",
       "\n",
       "          Barkery  Sandwiches  Healthy Choices   Hot Foods  \n",
       "count  786.000000  786.000000       786.000000  786.000000  \n",
       "mean     0.484733    0.484733         0.520356    0.529262  \n",
       "std      0.500085    0.500085         0.499904    0.499461  \n",
       "min      0.000000    0.000000         0.000000    0.000000  \n",
       "25%      0.000000    0.000000         0.000000    0.000000  \n",
       "50%      0.000000    0.000000         1.000000    1.000000  \n",
       "75%      1.000000    1.000000         1.000000    1.000000  \n",
       "max      1.000000    1.000000         1.000000    1.000000  "
      ]
     },
     "execution_count": 4,
     "metadata": {},
     "output_type": "execute_result"
    }
   ],
   "source": [
    "cs.describe()"
   ]
  },
  {
   "cell_type": "code",
   "execution_count": 7,
   "metadata": {},
   "outputs": [
    {
     "name": "stdout",
     "output_type": "stream",
     "text": [
      "<class 'pandas.core.frame.DataFrame'>\n",
      "RangeIndex: 786 entries, 0 to 785\n",
      "Data columns (total 18 columns):\n",
      " #   Column              Non-Null Count  Dtype \n",
      "---  ------              --------------  ----- \n",
      " 0   Coffee & Café       786 non-null    int64 \n",
      " 1   Big Gulp            786 non-null    int64 \n",
      " 2   Bottled & Canned    786 non-null    int64 \n",
      " 3   Beer                786 non-null    int64 \n",
      " 4   Wine                786 non-null    int64 \n",
      " 5   Slurpee             786 non-null    int64 \n",
      " 6   Locally Made Meals  786 non-null    int64 \n",
      " 7   Snacks              786 non-null    int64 \n",
      " 8   Pizza               786 non-null    int64 \n",
      " 9   Breakfast           786 non-null    int64 \n",
      " 10  Barkery             786 non-null    int64 \n",
      " 11  Sandwiches          786 non-null    int64 \n",
      " 12  Healthy Choices     786 non-null    int64 \n",
      " 13  Hot Foods           786 non-null    int64 \n",
      " 14  Gender              786 non-null    object\n",
      " 15  Age                 786 non-null    object\n",
      " 16  Member              786 non-null    object\n",
      " 17  Location            786 non-null    object\n",
      "dtypes: int64(14), object(4)\n",
      "memory usage: 110.7+ KB\n"
     ]
    }
   ],
   "source": [
    "cs.info()"
   ]
  },
  {
   "cell_type": "code",
   "execution_count": 8,
   "metadata": {},
   "outputs": [
    {
     "data": {
      "text/plain": [
       "Index(['Coffee & Café', 'Big Gulp', 'Bottled & Canned', 'Beer', 'Wine',\n",
       "       'Slurpee', 'Locally Made Meals', 'Snacks', 'Pizza', 'Breakfast',\n",
       "       'Barkery', 'Sandwiches', 'Healthy Choices', 'Hot Foods', 'Gender',\n",
       "       'Age', 'Member', 'Location'],\n",
       "      dtype='object')"
      ]
     },
     "execution_count": 8,
     "metadata": {},
     "output_type": "execute_result"
    }
   ],
   "source": [
    "cs.columns"
   ]
  },
  {
   "cell_type": "code",
   "execution_count": 14,
   "metadata": {},
   "outputs": [
    {
     "data": {
      "text/plain": [
       "(786, 18)"
      ]
     },
     "execution_count": 14,
     "metadata": {},
     "output_type": "execute_result"
    }
   ],
   "source": [
    "cs.shape"
   ]
  },
  {
   "cell_type": "code",
   "execution_count": 45,
   "metadata": {},
   "outputs": [
    {
     "data": {
      "image/png": "[encoded data removed]",
      "text/plain": [
       "<Figure size 720x288 with 1 Axes>"
      ]
     },
     "metadata": {},
     "output_type": "display_data"
    }
   ],
   "source": [
    "plt.hist(cs['Gender'], color='skyblue', lw=0) \n",
    "plt.xlabel ('Gender')\n",
    "plt.ylabel ('Total')\n",
    "plt.title ('Total per Gender')\n",
    "plt.show()"
   ]
  },
  {
   "cell_type": "code",
   "execution_count": 47,
   "metadata": {},
   "outputs": [
    {
     "data": {
      "text/html": [
       "<div>\n",
       "<style scoped>\n",
       "    .dataframe tbody tr th:only-of-type {\n",
       "        vertical-align: middle;\n",
       "    }\n",
       "\n",
       "    .dataframe tbody tr th {\n",
       "        vertical-align: top;\n",
       "    }\n",
       "\n",
       "    .dataframe thead th {\n",
       "        text-align: right;\n",
       "    }\n",
       "</style>\n",
       "<table border=\"1\" class=\"dataframe\">\n",
       "  <thead>\n",
       "    <tr style=\"text-align: right;\">\n",
       "      <th></th>\n",
       "      <th>Coffee &amp; Café</th>\n",
       "    </tr>\n",
       "    <tr>\n",
       "      <th>Gender</th>\n",
       "      <th></th>\n",
       "    </tr>\n",
       "  </thead>\n",
       "  <tbody>\n",
       "    <tr>\n",
       "      <th>Female</th>\n",
       "      <td>0.498818</td>\n",
       "    </tr>\n",
       "    <tr>\n",
       "      <th>Male</th>\n",
       "      <td>0.539945</td>\n",
       "    </tr>\n",
       "  </tbody>\n",
       "</table>\n",
       "</div>"
      ],
      "text/plain": [
       "        Coffee & Café\n",
       "Gender               \n",
       "Female       0.498818\n",
       "Male         0.539945"
      ]
     },
     "execution_count": 47,
     "metadata": {},
     "output_type": "execute_result"
    }
   ],
   "source": [
    "gender_coffee_agg = cs.groupby(['Gender']).agg({'Coffee & Café':'mean'})\n",
    "gender_coffee_agg"
   ]
  },
  {
   "cell_type": "code",
   "execution_count": 36,
   "metadata": {},
   "outputs": [
    {
     "data": {
      "text/html": [
       "<div>\n",
       "<style scoped>\n",
       "    .dataframe tbody tr th:only-of-type {\n",
       "        vertical-align: middle;\n",
       "    }\n",
       "\n",
       "    .dataframe tbody tr th {\n",
       "        vertical-align: top;\n",
       "    }\n",
       "\n",
       "    .dataframe thead th {\n",
       "        text-align: right;\n",
       "    }\n",
       "</style>\n",
       "<table border=\"1\" class=\"dataframe\">\n",
       "  <thead>\n",
       "    <tr style=\"text-align: right;\">\n",
       "      <th></th>\n",
       "      <th></th>\n",
       "      <th>Coffee &amp; Café</th>\n",
       "      <th>Big Gulp</th>\n",
       "      <th>Bottled &amp; Canned</th>\n",
       "      <th>Beer</th>\n",
       "      <th>Wine</th>\n",
       "      <th>Slurpee</th>\n",
       "      <th>Locally Made Meals</th>\n",
       "      <th>Snacks</th>\n",
       "      <th>Pizza</th>\n",
       "      <th>Breakfast</th>\n",
       "      <th>Barkery</th>\n",
       "      <th>Sandwiches</th>\n",
       "      <th>Healthy Choices</th>\n",
       "      <th>Hot Foods</th>\n",
       "    </tr>\n",
       "    <tr>\n",
       "      <th>Gender</th>\n",
       "      <th>Age</th>\n",
       "      <th></th>\n",
       "      <th></th>\n",
       "      <th></th>\n",
       "      <th></th>\n",
       "      <th></th>\n",
       "      <th></th>\n",
       "      <th></th>\n",
       "      <th></th>\n",
       "      <th></th>\n",
       "      <th></th>\n",
       "      <th></th>\n",
       "      <th></th>\n",
       "      <th></th>\n",
       "      <th></th>\n",
       "    </tr>\n",
       "  </thead>\n",
       "  <tbody>\n",
       "    <tr>\n",
       "      <th rowspan=\"5\" valign=\"top\">Female</th>\n",
       "      <th>12 to 21</th>\n",
       "      <td>0.422018</td>\n",
       "      <td>0.513761</td>\n",
       "      <td>0.477064</td>\n",
       "      <td>0.376147</td>\n",
       "      <td>0.458716</td>\n",
       "      <td>0.486239</td>\n",
       "      <td>0.532110</td>\n",
       "      <td>0.449541</td>\n",
       "      <td>0.568807</td>\n",
       "      <td>0.458716</td>\n",
       "      <td>0.477064</td>\n",
       "      <td>0.440367</td>\n",
       "      <td>0.550459</td>\n",
       "      <td>0.577982</td>\n",
       "    </tr>\n",
       "    <tr>\n",
       "      <th>22 to 31</th>\n",
       "      <td>0.558140</td>\n",
       "      <td>0.496124</td>\n",
       "      <td>0.472868</td>\n",
       "      <td>0.410853</td>\n",
       "      <td>0.511628</td>\n",
       "      <td>0.488372</td>\n",
       "      <td>0.387597</td>\n",
       "      <td>0.511628</td>\n",
       "      <td>0.480620</td>\n",
       "      <td>0.519380</td>\n",
       "      <td>0.441860</td>\n",
       "      <td>0.449612</td>\n",
       "      <td>0.573643</td>\n",
       "      <td>0.496124</td>\n",
       "    </tr>\n",
       "    <tr>\n",
       "      <th>32 to 41</th>\n",
       "      <td>0.522388</td>\n",
       "      <td>0.582090</td>\n",
       "      <td>0.537313</td>\n",
       "      <td>0.492537</td>\n",
       "      <td>0.402985</td>\n",
       "      <td>0.567164</td>\n",
       "      <td>0.462687</td>\n",
       "      <td>0.582090</td>\n",
       "      <td>0.417910</td>\n",
       "      <td>0.462687</td>\n",
       "      <td>0.492537</td>\n",
       "      <td>0.373134</td>\n",
       "      <td>0.582090</td>\n",
       "      <td>0.492537</td>\n",
       "    </tr>\n",
       "    <tr>\n",
       "      <th>42 to 51</th>\n",
       "      <td>0.459459</td>\n",
       "      <td>0.418919</td>\n",
       "      <td>0.378378</td>\n",
       "      <td>0.540541</td>\n",
       "      <td>0.513514</td>\n",
       "      <td>0.486486</td>\n",
       "      <td>0.554054</td>\n",
       "      <td>0.378378</td>\n",
       "      <td>0.554054</td>\n",
       "      <td>0.432432</td>\n",
       "      <td>0.500000</td>\n",
       "      <td>0.445946</td>\n",
       "      <td>0.486486</td>\n",
       "      <td>0.540541</td>\n",
       "    </tr>\n",
       "    <tr>\n",
       "      <th>Over 52</th>\n",
       "      <td>0.545455</td>\n",
       "      <td>0.659091</td>\n",
       "      <td>0.318182</td>\n",
       "      <td>0.500000</td>\n",
       "      <td>0.613636</td>\n",
       "      <td>0.386364</td>\n",
       "      <td>0.636364</td>\n",
       "      <td>0.522727</td>\n",
       "      <td>0.500000</td>\n",
       "      <td>0.477273</td>\n",
       "      <td>0.431818</td>\n",
       "      <td>0.409091</td>\n",
       "      <td>0.568182</td>\n",
       "      <td>0.522727</td>\n",
       "    </tr>\n",
       "    <tr>\n",
       "      <th rowspan=\"5\" valign=\"top\">Male</th>\n",
       "      <th>12 to 21</th>\n",
       "      <td>0.511811</td>\n",
       "      <td>0.472441</td>\n",
       "      <td>0.527559</td>\n",
       "      <td>0.464567</td>\n",
       "      <td>0.519685</td>\n",
       "      <td>0.448819</td>\n",
       "      <td>0.535433</td>\n",
       "      <td>0.433071</td>\n",
       "      <td>0.480315</td>\n",
       "      <td>0.566929</td>\n",
       "      <td>0.488189</td>\n",
       "      <td>0.574803</td>\n",
       "      <td>0.472441</td>\n",
       "      <td>0.503937</td>\n",
       "    </tr>\n",
       "    <tr>\n",
       "      <th>22 to 31</th>\n",
       "      <td>0.575758</td>\n",
       "      <td>0.454545</td>\n",
       "      <td>0.469697</td>\n",
       "      <td>0.590909</td>\n",
       "      <td>0.469697</td>\n",
       "      <td>0.590909</td>\n",
       "      <td>0.439394</td>\n",
       "      <td>0.500000</td>\n",
       "      <td>0.454545</td>\n",
       "      <td>0.621212</td>\n",
       "      <td>0.454545</td>\n",
       "      <td>0.500000</td>\n",
       "      <td>0.484848</td>\n",
       "      <td>0.575758</td>\n",
       "    </tr>\n",
       "    <tr>\n",
       "      <th>32 to 41</th>\n",
       "      <td>0.477612</td>\n",
       "      <td>0.328358</td>\n",
       "      <td>0.492537</td>\n",
       "      <td>0.507463</td>\n",
       "      <td>0.447761</td>\n",
       "      <td>0.522388</td>\n",
       "      <td>0.477612</td>\n",
       "      <td>0.477612</td>\n",
       "      <td>0.477612</td>\n",
       "      <td>0.462687</td>\n",
       "      <td>0.567164</td>\n",
       "      <td>0.537313</td>\n",
       "      <td>0.417910</td>\n",
       "      <td>0.492537</td>\n",
       "    </tr>\n",
       "    <tr>\n",
       "      <th>42 to 51</th>\n",
       "      <td>0.642857</td>\n",
       "      <td>0.607143</td>\n",
       "      <td>0.500000</td>\n",
       "      <td>0.446429</td>\n",
       "      <td>0.446429</td>\n",
       "      <td>0.428571</td>\n",
       "      <td>0.446429</td>\n",
       "      <td>0.625000</td>\n",
       "      <td>0.500000</td>\n",
       "      <td>0.571429</td>\n",
       "      <td>0.517857</td>\n",
       "      <td>0.589286</td>\n",
       "      <td>0.464286</td>\n",
       "      <td>0.517857</td>\n",
       "    </tr>\n",
       "    <tr>\n",
       "      <th>Over 52</th>\n",
       "      <td>0.531915</td>\n",
       "      <td>0.468085</td>\n",
       "      <td>0.446809</td>\n",
       "      <td>0.489362</td>\n",
       "      <td>0.468085</td>\n",
       "      <td>0.638298</td>\n",
       "      <td>0.531915</td>\n",
       "      <td>0.574468</td>\n",
       "      <td>0.446809</td>\n",
       "      <td>0.489362</td>\n",
       "      <td>0.510638</td>\n",
       "      <td>0.510638</td>\n",
       "      <td>0.617021</td>\n",
       "      <td>0.617021</td>\n",
       "    </tr>\n",
       "  </tbody>\n",
       "</table>\n",
       "</div>"
      ],
      "text/plain": [
       "                 Coffee & Café  Big Gulp  Bottled & Canned      Beer  \\\n",
       "Gender Age                                                             \n",
       "Female 12 to 21       0.422018  0.513761          0.477064  0.376147   \n",
       "       22 to 31       0.558140  0.496124          0.472868  0.410853   \n",
       "       32 to 41       0.522388  0.582090          0.537313  0.492537   \n",
       "       42 to 51       0.459459  0.418919          0.378378  0.540541   \n",
       "       Over 52        0.545455  0.659091          0.318182  0.500000   \n",
       "Male   12 to 21       0.511811  0.472441          0.527559  0.464567   \n",
       "       22 to 31       0.575758  0.454545          0.469697  0.590909   \n",
       "       32 to 41       0.477612  0.328358          0.492537  0.507463   \n",
       "       42 to 51       0.642857  0.607143          0.500000  0.446429   \n",
       "       Over 52        0.531915  0.468085          0.446809  0.489362   \n",
       "\n",
       "                     Wine   Slurpee  Locally Made Meals    Snacks     Pizza  \\\n",
       "Gender Age                                                                    \n",
       "Female 12 to 21  0.458716  0.486239            0.532110  0.449541  0.568807   \n",
       "       22 to 31  0.511628  0.488372            0.387597  0.511628  0.480620   \n",
       "       32 to 41  0.402985  0.567164            0.462687  0.582090  0.417910   \n",
       "       42 to 51  0.513514  0.486486            0.554054  0.378378  0.554054   \n",
       "       Over 52   0.613636  0.386364            0.636364  0.522727  0.500000   \n",
       "Male   12 to 21  0.519685  0.448819            0.535433  0.433071  0.480315   \n",
       "       22 to 31  0.469697  0.590909            0.439394  0.500000  0.454545   \n",
       "       32 to 41  0.447761  0.522388            0.477612  0.477612  0.477612   \n",
       "       42 to 51  0.446429  0.428571            0.446429  0.625000  0.500000   \n",
       "       Over 52   0.468085  0.638298            0.531915  0.574468  0.446809   \n",
       "\n",
       "                 Breakfast   Barkery  Sandwiches  Healthy Choices  Hot Foods  \n",
       "Gender Age                                                                    \n",
       "Female 12 to 21   0.458716  0.477064    0.440367         0.550459   0.577982  \n",
       "       22 to 31   0.519380  0.441860    0.449612         0.573643   0.496124  \n",
       "       32 to 41   0.462687  0.492537    0.373134         0.582090   0.492537  \n",
       "       42 to 51   0.432432  0.500000    0.445946         0.486486   0.540541  \n",
       "       Over 52    0.477273  0.431818    0.409091         0.568182   0.522727  \n",
       "Male   12 to 21   0.566929  0.488189    0.574803         0.472441   0.503937  \n",
       "       22 to 31   0.621212  0.454545    0.500000         0.484848   0.575758  \n",
       "       32 to 41   0.462687  0.567164    0.537313         0.417910   0.492537  \n",
       "       42 to 51   0.571429  0.517857    0.589286         0.464286   0.517857  \n",
       "       Over 52    0.489362  0.510638    0.510638         0.617021   0.617021  "
      ]
     },
     "execution_count": 36,
     "metadata": {},
     "output_type": "execute_result"
    }
   ],
   "source": [
    "cs.groupby(['Gender', 'Age'])[['Coffee & Café', 'Big Gulp', 'Bottled & Canned', 'Beer', 'Wine','Slurpee', 'Locally Made Meals', 'Snacks', 'Pizza', 'Breakfast',\n",
    "       'Barkery', 'Sandwiches', 'Healthy Choices', 'Hot Foods']].mean()"
   ]
  },
  {
   "cell_type": "code",
   "execution_count": 37,
   "metadata": {},
   "outputs": [
    {
     "data": {
      "text/html": [
       "<div>\n",
       "<style scoped>\n",
       "    .dataframe tbody tr th:only-of-type {\n",
       "        vertical-align: middle;\n",
       "    }\n",
       "\n",
       "    .dataframe tbody tr th {\n",
       "        vertical-align: top;\n",
       "    }\n",
       "\n",
       "    .dataframe thead th {\n",
       "        text-align: right;\n",
       "    }\n",
       "</style>\n",
       "<table border=\"1\" class=\"dataframe\">\n",
       "  <thead>\n",
       "    <tr style=\"text-align: right;\">\n",
       "      <th></th>\n",
       "      <th></th>\n",
       "      <th>Coffee &amp; Café</th>\n",
       "      <th>Big Gulp</th>\n",
       "      <th>Bottled &amp; Canned</th>\n",
       "      <th>Beer</th>\n",
       "      <th>Wine</th>\n",
       "      <th>Slurpee</th>\n",
       "      <th>Locally Made Meals</th>\n",
       "      <th>Snacks</th>\n",
       "      <th>Pizza</th>\n",
       "      <th>Breakfast</th>\n",
       "      <th>Barkery</th>\n",
       "      <th>Sandwiches</th>\n",
       "      <th>Healthy Choices</th>\n",
       "      <th>Hot Foods</th>\n",
       "    </tr>\n",
       "    <tr>\n",
       "      <th>Location</th>\n",
       "      <th>Member</th>\n",
       "      <th></th>\n",
       "      <th></th>\n",
       "      <th></th>\n",
       "      <th></th>\n",
       "      <th></th>\n",
       "      <th></th>\n",
       "      <th></th>\n",
       "      <th></th>\n",
       "      <th></th>\n",
       "      <th></th>\n",
       "      <th></th>\n",
       "      <th></th>\n",
       "      <th></th>\n",
       "      <th></th>\n",
       "    </tr>\n",
       "  </thead>\n",
       "  <tbody>\n",
       "    <tr>\n",
       "      <th rowspan=\"2\" valign=\"top\">Shopping Malls</th>\n",
       "      <th>No</th>\n",
       "      <td>0.518672</td>\n",
       "      <td>0.518672</td>\n",
       "      <td>0.526971</td>\n",
       "      <td>0.443983</td>\n",
       "      <td>0.481328</td>\n",
       "      <td>0.481328</td>\n",
       "      <td>0.514523</td>\n",
       "      <td>0.510373</td>\n",
       "      <td>0.514523</td>\n",
       "      <td>0.464730</td>\n",
       "      <td>0.481328</td>\n",
       "      <td>0.468880</td>\n",
       "      <td>0.456432</td>\n",
       "      <td>0.543568</td>\n",
       "    </tr>\n",
       "    <tr>\n",
       "      <th>Yes</th>\n",
       "      <td>0.465753</td>\n",
       "      <td>0.500000</td>\n",
       "      <td>0.404110</td>\n",
       "      <td>0.458904</td>\n",
       "      <td>0.465753</td>\n",
       "      <td>0.520548</td>\n",
       "      <td>0.458904</td>\n",
       "      <td>0.452055</td>\n",
       "      <td>0.500000</td>\n",
       "      <td>0.554795</td>\n",
       "      <td>0.465753</td>\n",
       "      <td>0.445205</td>\n",
       "      <td>0.493151</td>\n",
       "      <td>0.527397</td>\n",
       "    </tr>\n",
       "    <tr>\n",
       "      <th rowspan=\"2\" valign=\"top\">Train Stations</th>\n",
       "      <th>No</th>\n",
       "      <td>0.536765</td>\n",
       "      <td>0.492647</td>\n",
       "      <td>0.463235</td>\n",
       "      <td>0.514706</td>\n",
       "      <td>0.470588</td>\n",
       "      <td>0.507353</td>\n",
       "      <td>0.500000</td>\n",
       "      <td>0.488971</td>\n",
       "      <td>0.474265</td>\n",
       "      <td>0.507353</td>\n",
       "      <td>0.496324</td>\n",
       "      <td>0.511029</td>\n",
       "      <td>0.580882</td>\n",
       "      <td>0.496324</td>\n",
       "    </tr>\n",
       "    <tr>\n",
       "      <th>Yes</th>\n",
       "      <td>0.535433</td>\n",
       "      <td>0.433071</td>\n",
       "      <td>0.464567</td>\n",
       "      <td>0.433071</td>\n",
       "      <td>0.551181</td>\n",
       "      <td>0.488189</td>\n",
       "      <td>0.472441</td>\n",
       "      <td>0.511811</td>\n",
       "      <td>0.480315</td>\n",
       "      <td>0.543307</td>\n",
       "      <td>0.488189</td>\n",
       "      <td>0.503937</td>\n",
       "      <td>0.543307</td>\n",
       "      <td>0.574803</td>\n",
       "    </tr>\n",
       "  </tbody>\n",
       "</table>\n",
       "</div>"
      ],
      "text/plain": [
       "                       Coffee & Café  Big Gulp  Bottled & Canned      Beer  \\\n",
       "Location       Member                                                        \n",
       "Shopping Malls No           0.518672  0.518672          0.526971  0.443983   \n",
       "               Yes          0.465753  0.500000          0.404110  0.458904   \n",
       "Train Stations No           0.536765  0.492647          0.463235  0.514706   \n",
       "               Yes          0.535433  0.433071          0.464567  0.433071   \n",
       "\n",
       "                           Wine   Slurpee  Locally Made Meals    Snacks  \\\n",
       "Location       Member                                                     \n",
       "Shopping Malls No      0.481328  0.481328            0.514523  0.510373   \n",
       "               Yes     0.465753  0.520548            0.458904  0.452055   \n",
       "Train Stations No      0.470588  0.507353            0.500000  0.488971   \n",
       "               Yes     0.551181  0.488189            0.472441  0.511811   \n",
       "\n",
       "                          Pizza  Breakfast   Barkery  Sandwiches  \\\n",
       "Location       Member                                              \n",
       "Shopping Malls No      0.514523   0.464730  0.481328    0.468880   \n",
       "               Yes     0.500000   0.554795  0.465753    0.445205   \n",
       "Train Stations No      0.474265   0.507353  0.496324    0.511029   \n",
       "               Yes     0.480315   0.543307  0.488189    0.503937   \n",
       "\n",
       "                       Healthy Choices  Hot Foods  \n",
       "Location       Member                              \n",
       "Shopping Malls No             0.456432   0.543568  \n",
       "               Yes            0.493151   0.527397  \n",
       "Train Stations No             0.580882   0.496324  \n",
       "               Yes            0.543307   0.574803  "
      ]
     },
     "execution_count": 37,
     "metadata": {},
     "output_type": "execute_result"
    }
   ],
   "source": [
    "cs.groupby(['Location', 'Member'])[['Coffee & Café', 'Big Gulp', 'Bottled & Canned', 'Beer', 'Wine','Slurpee', 'Locally Made Meals', 'Snacks', 'Pizza', 'Breakfast',\n",
    "       'Barkery', 'Sandwiches', 'Healthy Choices', 'Hot Foods']].mean()"
   ]
  },
  {
   "cell_type": "code",
   "execution_count": null,
   "metadata": {},
   "outputs": [],
   "source": []
  },
  {
   "cell_type": "code",
   "execution_count": 87,
   "metadata": {
    "scrolled": true
   },
   "outputs": [
    {
     "data": {
      "image/png": "[encoded data removed]",
      "text/plain": [
       "<Figure size 1360x960 with 4 Axes>"
      ]
     },
     "metadata": {},
     "output_type": "display_data"
    }
   ],
   "source": [
    "fig, axarr = plt.subplots(2, 2, figsize=(17,12), dpi=80, facecolor='w', edgecolor='k')\n",
    "sns.set(style=\"white\")\n",
    "sns.countplot(x='Gender', data = cs, ax=axarr[0][0], palette=\"Accent_r\")\n",
    "axarr[0][0].set_title('Distribution of Gender')\n",
    "sns.countplot(x='Age', data = cs, ax=axarr[0][1], palette=\"Accent_r\")\n",
    "axarr[0][1].set_title('Distribution of Age')\n",
    "sns.countplot(x='Member', data = cs,ax=axarr[1][0], palette=\"Accent_r\")\n",
    "axarr[1][0].set_title('Distribution of Member or Not')\n",
    "sns.countplot(x='Location', data = cs,  ax=axarr[1][1], palette=\"Accent_r\")\n",
    "axarr[1][1].set_title('Distribution of Location')\n",
    "fig.suptitle('Purchase Frequency Distribution of Different Categorical Variable', fontsize=16);"
   ]
  },
  {
   "cell_type": "code",
   "execution_count": 85,
   "metadata": {},
   "outputs": [
    {
     "data": {
      "text/plain": [
       "<matplotlib.legend.Legend at 0x20d027c8730>"
      ]
     },
     "execution_count": 85,
     "metadata": {},
     "output_type": "execute_result"
    },
    {
     "data": {
      "image/png": "[encoded data removed]",
      "text/plain": [
       "<Figure size 720x288 with 1 Axes>"
      ]
     },
     "metadata": {},
     "output_type": "display_data"
    }
   ],
   "source": [
    "cs_coffee = cs.groupby(\"Gender\").agg([np.mean])\n",
    "cs_coffee.plot(kind = \"barh\", legend = True,\n",
    "            title = \"Average Purchase by Gender\")\n",
    "plt.legend(bbox_to_anchor=(1.05, 1.0), loc='upper left')"
   ]
  },
  {
   "cell_type": "code",
   "execution_count": 86,
   "metadata": {},
   "outputs": [
    {
     "data": {
      "text/plain": [
       "<matplotlib.legend.Legend at 0x20d0269bee0>"
      ]
     },
     "execution_count": 86,
     "metadata": {},
     "output_type": "execute_result"
    },
    {
     "data": {
      "image/png": "[encoded data removed]",
      "text/plain": [
       "<Figure size 720x288 with 1 Axes>"
      ]
     },
     "metadata": {},
     "output_type": "display_data"
    }
   ],
   "source": [
    "cs_coffee = cs.groupby(\"Age\").agg([np.mean])\n",
    "cs_coffee.plot(kind = \"barh\", legend = True,\n",
    "            title = \"Average Purchase by Age\")\n",
    "plt.legend(bbox_to_anchor=(1.05, 1.0), loc='upper left')"
   ]
  },
  {
   "cell_type": "code",
   "execution_count": 88,
   "metadata": {},
   "outputs": [
    {
     "data": {
      "text/plain": [
       "<matplotlib.legend.Legend at 0x20d01dc2280>"
      ]
     },
     "execution_count": 88,
     "metadata": {},
     "output_type": "execute_result"
    },
    {
     "data": {
      "image/png": "[encoded data removed]",
      "text/plain": [
       "<Figure size 720x288 with 1 Axes>"
      ]
     },
     "metadata": {},
     "output_type": "display_data"
    }
   ],
   "source": [
    "cs_coffee = cs.groupby(\"Member\").agg([np.mean])\n",
    "cs_coffee.plot(kind = \"barh\", legend = True,\n",
    "            title = \"Average Purchase by Membership\")\n",
    "plt.legend(bbox_to_anchor=(1.05, 1.0), loc='upper left')"
   ]
  },
  {
   "cell_type": "code",
   "execution_count": 89,
   "metadata": {},
   "outputs": [
    {
     "data": {
      "text/plain": [
       "<matplotlib.legend.Legend at 0x20d014ba8e0>"
      ]
     },
     "execution_count": 89,
     "metadata": {},
     "output_type": "execute_result"
    },
    {
     "data": {
      "image/png": "[encoded data removed]",
      "text/plain": [
       "<Figure size 720x288 with 1 Axes>"
      ]
     },
     "metadata": {},
     "output_type": "display_data"
    }
   ],
   "source": [
    "cs_coffee = cs.groupby(\"Location\").agg([np.mean])\n",
    "cs_coffee.plot(kind = \"barh\", legend = True,\n",
    "            title = \"Average Purchase by Location\")\n",
    "plt.legend(bbox_to_anchor=(1.05, 1.0), loc='upper left')"
   ]
  },
  {
   "cell_type": "markdown",
   "metadata": {},
   "source": [
    "Drill down on group's average purchases."
   ]
  },
  {
   "cell_type": "code",
   "execution_count": 107,
   "metadata": {},
   "outputs": [
    {
     "data": {
      "text/plain": [
       "Index(['Coffee & Café', 'Big Gulp', 'Bottled & Canned', 'Beer', 'Wine',\n",
       "       'Slurpee', 'Locally Made Meals', 'Snacks', 'Pizza', 'Breakfast',\n",
       "       'Barkery', 'Sandwiches', 'Healthy Choices', 'Hot Foods', 'Gender',\n",
       "       'Age', 'Member', 'Location'],\n",
       "      dtype='object')"
      ]
     },
     "execution_count": 107,
     "metadata": {},
     "output_type": "execute_result"
    }
   ],
   "source": [
    "cs.columns"
   ]
  },
  {
   "cell_type": "markdown",
   "metadata": {},
   "source": [
    "# Breakdown of average purchases by age and gender"
   ]
  },
  {
   "cell_type": "code",
   "execution_count": 165,
   "metadata": {},
   "outputs": [
    {
     "data": {
      "text/plain": [
       "Age       Gender\n",
       "42 to 51  Male      0.642857\n",
       "22 to 31  Male      0.575758\n",
       "          Female    0.558140\n",
       "Over 52   Female    0.545455\n",
       "          Male      0.531915\n",
       "32 to 41  Female    0.522388\n",
       "12 to 21  Male      0.511811\n",
       "32 to 41  Male      0.477612\n",
       "42 to 51  Female    0.459459\n",
       "12 to 21  Female    0.422018\n",
       "Name: Coffee & Café, dtype: float64"
      ]
     },
     "execution_count": 165,
     "metadata": {},
     "output_type": "execute_result"
    }
   ],
   "source": [
    "#sort by age, gender: Coffee & Café \n",
    "cs.groupby(['Age', 'Gender'])['Coffee & Café'].mean().sort_values(ascending=False)"
   ]
  },
  {
   "cell_type": "code",
   "execution_count": 113,
   "metadata": {},
   "outputs": [
    {
     "data": {
      "text/plain": [
       "Age       Gender\n",
       "Over 52   Female    0.659091\n",
       "42 to 51  Male      0.607143\n",
       "32 to 41  Female    0.582090\n",
       "12 to 21  Female    0.513761\n",
       "22 to 31  Female    0.496124\n",
       "12 to 21  Male      0.472441\n",
       "Over 52   Male      0.468085\n",
       "22 to 31  Male      0.454545\n",
       "42 to 51  Female    0.418919\n",
       "32 to 41  Male      0.328358\n",
       "Name: Big Gulp, dtype: float64"
      ]
     },
     "execution_count": 113,
     "metadata": {},
     "output_type": "execute_result"
    }
   ],
   "source": [
    "#sort by age, gender: Big Gulp \n",
    "cs.groupby(['Age', 'Gender'])['Big Gulp'].mean().sort_values(ascending=False)"
   ]
  },
  {
   "cell_type": "code",
   "execution_count": 117,
   "metadata": {},
   "outputs": [
    {
     "data": {
      "text/plain": [
       "Age       Gender\n",
       "32 to 41  Female    0.537313\n",
       "12 to 21  Male      0.527559\n",
       "42 to 51  Male      0.500000\n",
       "32 to 41  Male      0.492537\n",
       "12 to 21  Female    0.477064\n",
       "22 to 31  Female    0.472868\n",
       "          Male      0.469697\n",
       "Over 52   Male      0.446809\n",
       "42 to 51  Female    0.378378\n",
       "Over 52   Female    0.318182\n",
       "Name: Bottled & Canned, dtype: float64"
      ]
     },
     "execution_count": 117,
     "metadata": {},
     "output_type": "execute_result"
    }
   ],
   "source": [
    "#sort by age, gender: Bottled & Canned \n",
    "cs.groupby(['Age', 'Gender'])['Bottled & Canned'].mean().sort_values(ascending=False)"
   ]
  },
  {
   "cell_type": "code",
   "execution_count": 121,
   "metadata": {},
   "outputs": [
    {
     "data": {
      "text/plain": [
       "Age       Gender\n",
       "22 to 31  Male      0.590909\n",
       "42 to 51  Female    0.540541\n",
       "32 to 41  Male      0.507463\n",
       "Over 52   Female    0.500000\n",
       "32 to 41  Female    0.492537\n",
       "Over 52   Male      0.489362\n",
       "12 to 21  Male      0.464567\n",
       "42 to 51  Male      0.446429\n",
       "22 to 31  Female    0.410853\n",
       "12 to 21  Female    0.376147\n",
       "Name: Beer, dtype: float64"
      ]
     },
     "execution_count": 121,
     "metadata": {},
     "output_type": "execute_result"
    }
   ],
   "source": [
    "#sort by age, gender: beer \n",
    "cs.groupby(['Age', 'Gender'])['Beer'].mean().sort_values(ascending=False)"
   ]
  },
  {
   "cell_type": "code",
   "execution_count": 122,
   "metadata": {},
   "outputs": [
    {
     "data": {
      "text/plain": [
       "Age       Gender\n",
       "Over 52   Female    0.613636\n",
       "12 to 21  Male      0.519685\n",
       "42 to 51  Female    0.513514\n",
       "22 to 31  Female    0.511628\n",
       "          Male      0.469697\n",
       "Over 52   Male      0.468085\n",
       "12 to 21  Female    0.458716\n",
       "32 to 41  Male      0.447761\n",
       "42 to 51  Male      0.446429\n",
       "32 to 41  Female    0.402985\n",
       "Name: Wine, dtype: float64"
      ]
     },
     "execution_count": 122,
     "metadata": {},
     "output_type": "execute_result"
    }
   ],
   "source": [
    "#sort by age, gender: Wine \n",
    "cs.groupby(['Age', 'Gender'])['Wine'].mean().sort_values(ascending=False)"
   ]
  },
  {
   "cell_type": "code",
   "execution_count": 129,
   "metadata": {},
   "outputs": [
    {
     "data": {
      "text/plain": [
       "Age       Gender\n",
       "Over 52   Male      0.638298\n",
       "22 to 31  Male      0.590909\n",
       "32 to 41  Female    0.567164\n",
       "          Male      0.522388\n",
       "22 to 31  Female    0.488372\n",
       "42 to 51  Female    0.486486\n",
       "12 to 21  Female    0.486239\n",
       "          Male      0.448819\n",
       "42 to 51  Male      0.428571\n",
       "Over 52   Female    0.386364\n",
       "Name: Slurpee, dtype: float64"
      ]
     },
     "execution_count": 129,
     "metadata": {},
     "output_type": "execute_result"
    }
   ],
   "source": [
    "#sort by age, gender: Slurpee \n",
    "cs.groupby(['Age', 'Gender'])['Slurpee'].mean().sort_values(ascending=False)"
   ]
  },
  {
   "cell_type": "code",
   "execution_count": 133,
   "metadata": {},
   "outputs": [
    {
     "data": {
      "text/plain": [
       "Age       Gender\n",
       "Over 52   Female    0.636364\n",
       "42 to 51  Female    0.554054\n",
       "12 to 21  Male      0.535433\n",
       "          Female    0.532110\n",
       "Over 52   Male      0.531915\n",
       "32 to 41  Male      0.477612\n",
       "          Female    0.462687\n",
       "42 to 51  Male      0.446429\n",
       "22 to 31  Male      0.439394\n",
       "          Female    0.387597\n",
       "Name: Locally Made Meals, dtype: float64"
      ]
     },
     "execution_count": 133,
     "metadata": {},
     "output_type": "execute_result"
    }
   ],
   "source": [
    "#sort by age, gender: Locally Made Meals \n",
    "cs.groupby(['Age', 'Gender'])['Locally Made Meals'].mean().sort_values(ascending=False)"
   ]
  },
  {
   "cell_type": "code",
   "execution_count": 137,
   "metadata": {},
   "outputs": [
    {
     "data": {
      "text/plain": [
       "Age       Gender\n",
       "42 to 51  Male      0.625000\n",
       "32 to 41  Female    0.582090\n",
       "Over 52   Male      0.574468\n",
       "          Female    0.522727\n",
       "22 to 31  Female    0.511628\n",
       "          Male      0.500000\n",
       "32 to 41  Male      0.477612\n",
       "12 to 21  Female    0.449541\n",
       "          Male      0.433071\n",
       "42 to 51  Female    0.378378\n",
       "Name: Snacks, dtype: float64"
      ]
     },
     "execution_count": 137,
     "metadata": {},
     "output_type": "execute_result"
    }
   ],
   "source": [
    "#sort by age, gender: Snacks \n",
    "cs.groupby(['Age', 'Gender'])['Snacks'].mean().sort_values(ascending=False)"
   ]
  },
  {
   "cell_type": "code",
   "execution_count": 141,
   "metadata": {},
   "outputs": [
    {
     "data": {
      "text/plain": [
       "Age       Gender\n",
       "12 to 21  Female    0.568807\n",
       "42 to 51  Female    0.554054\n",
       "Over 52   Female    0.500000\n",
       "42 to 51  Male      0.500000\n",
       "22 to 31  Female    0.480620\n",
       "12 to 21  Male      0.480315\n",
       "32 to 41  Male      0.477612\n",
       "22 to 31  Male      0.454545\n",
       "Over 52   Male      0.446809\n",
       "32 to 41  Female    0.417910\n",
       "Name: Pizza, dtype: float64"
      ]
     },
     "execution_count": 141,
     "metadata": {},
     "output_type": "execute_result"
    }
   ],
   "source": [
    "#sort by age, gender: Pizza \n",
    "cs.groupby(['Age', 'Gender'])['Pizza'].mean().sort_values(ascending=False)"
   ]
  },
  {
   "cell_type": "code",
   "execution_count": 145,
   "metadata": {},
   "outputs": [
    {
     "data": {
      "text/plain": [
       "Age       Gender\n",
       "22 to 31  Male      0.621212\n",
       "42 to 51  Male      0.571429\n",
       "12 to 21  Male      0.566929\n",
       "22 to 31  Female    0.519380\n",
       "Over 52   Male      0.489362\n",
       "          Female    0.477273\n",
       "32 to 41  Male      0.462687\n",
       "          Female    0.462687\n",
       "12 to 21  Female    0.458716\n",
       "42 to 51  Female    0.432432\n",
       "Name: Breakfast, dtype: float64"
      ]
     },
     "execution_count": 145,
     "metadata": {},
     "output_type": "execute_result"
    }
   ],
   "source": [
    "#sort by age, gender: Breakfast \n",
    "cs.groupby(['Age', 'Gender'])['Breakfast'].mean().sort_values(ascending=False)"
   ]
  },
  {
   "cell_type": "code",
   "execution_count": 149,
   "metadata": {},
   "outputs": [
    {
     "data": {
      "text/plain": [
       "Age       Gender\n",
       "32 to 41  Male      0.567164\n",
       "42 to 51  Male      0.517857\n",
       "Over 52   Male      0.510638\n",
       "42 to 51  Female    0.500000\n",
       "32 to 41  Female    0.492537\n",
       "12 to 21  Male      0.488189\n",
       "          Female    0.477064\n",
       "22 to 31  Male      0.454545\n",
       "          Female    0.441860\n",
       "Over 52   Female    0.431818\n",
       "Name: Barkery, dtype: float64"
      ]
     },
     "execution_count": 149,
     "metadata": {},
     "output_type": "execute_result"
    }
   ],
   "source": [
    "#sort by age, gender: Barkery \n",
    "cs.groupby(['Age', 'Gender'])['Barkery'].mean().sort_values(ascending=False)"
   ]
  },
  {
   "cell_type": "code",
   "execution_count": 153,
   "metadata": {},
   "outputs": [
    {
     "data": {
      "text/plain": [
       "Age       Gender\n",
       "42 to 51  Male      0.589286\n",
       "12 to 21  Male      0.574803\n",
       "32 to 41  Male      0.537313\n",
       "Over 52   Male      0.510638\n",
       "22 to 31  Male      0.500000\n",
       "          Female    0.449612\n",
       "42 to 51  Female    0.445946\n",
       "12 to 21  Female    0.440367\n",
       "Over 52   Female    0.409091\n",
       "32 to 41  Female    0.373134\n",
       "Name: Sandwiches, dtype: float64"
      ]
     },
     "execution_count": 153,
     "metadata": {},
     "output_type": "execute_result"
    }
   ],
   "source": [
    "#sort by age, gender: Sandwiches \n",
    "cs.groupby(['Age', 'Gender'])['Sandwiches'].mean().sort_values(ascending=False)"
   ]
  },
  {
   "cell_type": "code",
   "execution_count": 157,
   "metadata": {},
   "outputs": [
    {
     "data": {
      "text/plain": [
       "Age       Gender\n",
       "Over 52   Male      0.617021\n",
       "32 to 41  Female    0.582090\n",
       "22 to 31  Female    0.573643\n",
       "Over 52   Female    0.568182\n",
       "12 to 21  Female    0.550459\n",
       "42 to 51  Female    0.486486\n",
       "22 to 31  Male      0.484848\n",
       "12 to 21  Male      0.472441\n",
       "42 to 51  Male      0.464286\n",
       "32 to 41  Male      0.417910\n",
       "Name: Healthy Choices, dtype: float64"
      ]
     },
     "execution_count": 157,
     "metadata": {},
     "output_type": "execute_result"
    }
   ],
   "source": [
    "#sort by age, gender: Healthy Choices \n",
    "cs.groupby(['Age', 'Gender'])['Healthy Choices'].mean().sort_values(ascending=False)"
   ]
  },
  {
   "cell_type": "code",
   "execution_count": 166,
   "metadata": {},
   "outputs": [
    {
     "data": {
      "text/plain": [
       "Age       Gender\n",
       "Over 52   Male      0.617021\n",
       "12 to 21  Female    0.577982\n",
       "22 to 31  Male      0.575758\n",
       "42 to 51  Female    0.540541\n",
       "Over 52   Female    0.522727\n",
       "42 to 51  Male      0.517857\n",
       "12 to 21  Male      0.503937\n",
       "22 to 31  Female    0.496124\n",
       "32 to 41  Male      0.492537\n",
       "          Female    0.492537\n",
       "Name: Hot Foods, dtype: float64"
      ]
     },
     "execution_count": 166,
     "metadata": {},
     "output_type": "execute_result"
    }
   ],
   "source": [
    "#sort by age, gender: Hot Foods \n",
    "cs.groupby(['Age', 'Gender'])['Hot Foods'].mean().sort_values(ascending=False)"
   ]
  },
  {
   "cell_type": "markdown",
   "metadata": {},
   "source": [
    "# Analysis of Age and Gender, Top Sellers\n",
    "\n",
    "-  Coffee & Café: 42-51 Males 64%\n",
    "-  Big Gulp: Over 52 Females 66%\n",
    "-  Bottled & Canned: 32-41 Females 54%\n",
    "-  Beer: 22-31 Males 59% \n",
    "-  Wine: Over 52 Females 61%\n",
    "-  Slurpee: Over 52 Males 64%\n",
    "-  Locally Made Meals: Over 52 Females 64%\n",
    "-  Snacks: 42-51 Males 63%\n",
    "-  Pizza:  12-21 Females 57%\n",
    "-  Breakfast: 22-31 Males 62%\n",
    "-  Barkery: 32-41 Males 57%\n",
    "-  Sandwiches: 42-51 Males 59%\n",
    "-  Healthy Choices: Over 52 Males 62%\n",
    "-  Hot Foods: Over 52 Males 62%"
   ]
  },
  {
   "cell_type": "code",
   "execution_count": 110,
   "metadata": {},
   "outputs": [
    {
     "data": {
      "text/plain": [
       "Member  Gender\n",
       "No      Male      0.541985\n",
       "Yes     Male      0.534653\n",
       "No      Female    0.513944\n",
       "Yes     Female    0.476744\n",
       "Name: Coffee & Café, dtype: float64"
      ]
     },
     "execution_count": 110,
     "metadata": {},
     "output_type": "execute_result"
    }
   ],
   "source": [
    "#sort by member, gender: Coffee & Café \n",
    "cs.groupby(['Member', 'Gender'])['Coffee & Café'].mean().sort_values(ascending=False)"
   ]
  },
  {
   "cell_type": "code",
   "execution_count": 114,
   "metadata": {},
   "outputs": [
    {
     "data": {
      "text/plain": [
       "Member  Gender\n",
       "No      Female    0.529880\n",
       "Yes     Female    0.500000\n",
       "No      Male      0.480916\n",
       "Yes     Male      0.415842\n",
       "Name: Big Gulp, dtype: float64"
      ]
     },
     "execution_count": 114,
     "metadata": {},
     "output_type": "execute_result"
    }
   ],
   "source": [
    "#sort by member, gender: Big Gulp\n",
    "cs.groupby(['Member', 'Gender'])['Big Gulp'].mean().sort_values(ascending=False)"
   ]
  },
  {
   "cell_type": "code",
   "execution_count": 118,
   "metadata": {},
   "outputs": [
    {
     "data": {
      "text/plain": [
       "Member  Gender\n",
       "No      Male      0.496183\n",
       "Yes     Male      0.495050\n",
       "No      Female    0.490040\n",
       "Yes     Female    0.395349\n",
       "Name: Bottled & Canned, dtype: float64"
      ]
     },
     "execution_count": 118,
     "metadata": {},
     "output_type": "execute_result"
    }
   ],
   "source": [
    "#sort by member, gender: Bottled & Canned \n",
    "cs.groupby(['Member', 'Gender'])['Bottled & Canned'].mean().sort_values(ascending=False)"
   ]
  },
  {
   "cell_type": "code",
   "execution_count": 123,
   "metadata": {},
   "outputs": [
    {
     "data": {
      "text/plain": [
       "Member  Gender\n",
       "Yes     Male      0.554455\n",
       "No      Female    0.490040\n",
       "        Male      0.473282\n",
       "Yes     Female    0.383721\n",
       "Name: Beer, dtype: float64"
      ]
     },
     "execution_count": 123,
     "metadata": {},
     "output_type": "execute_result"
    }
   ],
   "source": [
    "#sort by member, gender: beer \n",
    "cs.groupby(['Member', 'Gender'])['Beer'].mean().sort_values(ascending=False)"
   ]
  },
  {
   "cell_type": "code",
   "execution_count": 124,
   "metadata": {},
   "outputs": [
    {
     "data": {
      "text/plain": [
       "Member  Gender\n",
       "Yes     Female    0.546512\n",
       "No      Male      0.496183\n",
       "        Female    0.454183\n",
       "Yes     Male      0.435644\n",
       "Name: Wine, dtype: float64"
      ]
     },
     "execution_count": 124,
     "metadata": {},
     "output_type": "execute_result"
    }
   ],
   "source": [
    "#sort by member, gender: Wine \n",
    "cs.groupby(['Member', 'Gender'])['Wine'].mean().sort_values(ascending=False)"
   ]
  },
  {
   "cell_type": "code",
   "execution_count": 130,
   "metadata": {},
   "outputs": [
    {
     "data": {
      "text/plain": [
       "Member  Gender\n",
       "Yes     Male      0.554455\n",
       "No      Female    0.498008\n",
       "        Male      0.492366\n",
       "Yes     Female    0.476744\n",
       "Name: Slurpee, dtype: float64"
      ]
     },
     "execution_count": 130,
     "metadata": {},
     "output_type": "execute_result"
    }
   ],
   "source": [
    "#sort by member, gender: Slurpee \n",
    "cs.groupby(['Member', 'Gender'])['Slurpee'].mean().sort_values(ascending=False)"
   ]
  },
  {
   "cell_type": "code",
   "execution_count": 134,
   "metadata": {},
   "outputs": [
    {
     "data": {
      "text/plain": [
       "Member  Gender\n",
       "No      Female    0.529880\n",
       "Yes     Male      0.514851\n",
       "No      Male      0.484733\n",
       "Yes     Female    0.436047\n",
       "Name: Locally Made Meals, dtype: float64"
      ]
     },
     "execution_count": 134,
     "metadata": {},
     "output_type": "execute_result"
    }
   ],
   "source": [
    "#sort by member, gender: Locally Made Meals \n",
    "cs.groupby(['Member', 'Gender'])['Locally Made Meals'].mean().sort_values(ascending=False)"
   ]
  },
  {
   "cell_type": "code",
   "execution_count": 138,
   "metadata": {},
   "outputs": [
    {
     "data": {
      "text/plain": [
       "Member  Gender\n",
       "No      Male      0.511450\n",
       "        Female    0.486056\n",
       "Yes     Female    0.482558\n",
       "        Male      0.475248\n",
       "Name: Snacks, dtype: float64"
      ]
     },
     "execution_count": 138,
     "metadata": {},
     "output_type": "execute_result"
    }
   ],
   "source": [
    "#sort by member, gender: Snacks \n",
    "cs.groupby(['Member', 'Gender'])['Snacks'].mean().sort_values(ascending=False)"
   ]
  },
  {
   "cell_type": "code",
   "execution_count": 142,
   "metadata": {},
   "outputs": [
    {
     "data": {
      "text/plain": [
       "Member  Gender\n",
       "No      Female    0.521912\n",
       "Yes     Male      0.495050\n",
       "        Female    0.488372\n",
       "No      Male      0.465649\n",
       "Name: Pizza, dtype: float64"
      ]
     },
     "execution_count": 142,
     "metadata": {},
     "output_type": "execute_result"
    }
   ],
   "source": [
    "#sort by member, gender: Pizza \n",
    "cs.groupby(['Member', 'Gender'])['Pizza'].mean().sort_values(ascending=False)"
   ]
  },
  {
   "cell_type": "code",
   "execution_count": 146,
   "metadata": {},
   "outputs": [
    {
     "data": {
      "text/plain": [
       "Member  Gender\n",
       "Yes     Male      0.603960\n",
       "No      Male      0.526718\n",
       "Yes     Female    0.517442\n",
       "No      Female    0.446215\n",
       "Name: Breakfast, dtype: float64"
      ]
     },
     "execution_count": 146,
     "metadata": {},
     "output_type": "execute_result"
    }
   ],
   "source": [
    "#sort by member, gender: Breakfast \n",
    "cs.groupby(['Member', 'Gender'])['Breakfast'].mean().sort_values(ascending=False)"
   ]
  },
  {
   "cell_type": "code",
   "execution_count": 150,
   "metadata": {},
   "outputs": [
    {
     "data": {
      "text/plain": [
       "Member  Gender\n",
       "Yes     Male      0.504950\n",
       "No      Male      0.503817\n",
       "        Female    0.474104\n",
       "Yes     Female    0.459302\n",
       "Name: Barkery, dtype: float64"
      ]
     },
     "execution_count": 150,
     "metadata": {},
     "output_type": "execute_result"
    }
   ],
   "source": [
    "#sort by member, gender: Barkery \n",
    "cs.groupby(['Member', 'Gender'])['Barkery'].mean().sort_values(ascending=False)"
   ]
  },
  {
   "cell_type": "code",
   "execution_count": 154,
   "metadata": {},
   "outputs": [
    {
     "data": {
      "text/plain": [
       "Member  Gender\n",
       "No      Male      0.557252\n",
       "Yes     Male      0.524752\n",
       "        Female    0.441860\n",
       "No      Female    0.422311\n",
       "Name: Sandwiches, dtype: float64"
      ]
     },
     "execution_count": 154,
     "metadata": {},
     "output_type": "execute_result"
    }
   ],
   "source": [
    "#sort by member, gender: Sandwiches \n",
    "cs.groupby(['Member', 'Gender'])['Sandwiches'].mean().sort_values(ascending=False)"
   ]
  },
  {
   "cell_type": "code",
   "execution_count": 158,
   "metadata": {},
   "outputs": [
    {
     "data": {
      "text/plain": [
       "Member  Gender\n",
       "No      Female    0.569721\n",
       "Yes     Female    0.529070\n",
       "        Male      0.495050\n",
       "No      Male      0.477099\n",
       "Name: Healthy Choices, dtype: float64"
      ]
     },
     "execution_count": 158,
     "metadata": {},
     "output_type": "execute_result"
    }
   ],
   "source": [
    "#sort by member, gender: Healthy Choices \n",
    "cs.groupby(['Member', 'Gender'])['Healthy Choices'].mean().sort_values(ascending=False)"
   ]
  },
  {
   "cell_type": "code",
   "execution_count": 162,
   "metadata": {},
   "outputs": [
    {
     "data": {
      "text/plain": [
       "Member  Gender\n",
       "Yes     Male      0.584158\n",
       "        Female    0.529070\n",
       "No      Female    0.525896\n",
       "        Male      0.511450\n",
       "Name: Hot Foods, dtype: float64"
      ]
     },
     "execution_count": 162,
     "metadata": {},
     "output_type": "execute_result"
    }
   ],
   "source": [
    "#sort by member, gender: Hot Foods \n",
    "cs.groupby(['Member', 'Gender'])['Hot Foods'].mean().sort_values(ascending=False)"
   ]
  },
  {
   "cell_type": "markdown",
   "metadata": {},
   "source": [
    "# Analysis of membership and gender, Top Sellers\n",
    "\n",
    "-  Coffee & Café: Not Members Males 54%\n",
    "-  Big Gulp: Not Members Females 53%\n",
    "-  Bottled & Canned: Not Members Males 50%\n",
    "-  Beer: Members Males 55%\n",
    "-  Wine: Members Females 55%\n",
    "-  Slurpee: Members Males 55%\n",
    "-  Locally Made Meals: Not Members Females 53%\n",
    "-  Snacks: Not Members Males 51%\n",
    "-  Pizza: Not Members Females 52%\n",
    "-  Breakfast: Members Males 60%\n",
    "-  Barkery: Members Males 50%\n",
    "-  Sandwiches: Not Members Males 56%\n",
    "-  Healthy Choices: Not Members Females 57%\n",
    "-  Hot Foods: Members Males 58%"
   ]
  },
  {
   "cell_type": "code",
   "execution_count": 111,
   "metadata": {},
   "outputs": [
    {
     "data": {
      "text/plain": [
       "Location        Gender\n",
       "Train Stations  Male      0.575130\n",
       "                Female    0.500000\n",
       "Shopping Malls  Male      0.500000\n",
       "                Female    0.497696\n",
       "Name: Coffee & Café, dtype: float64"
      ]
     },
     "execution_count": 111,
     "metadata": {},
     "output_type": "execute_result"
    }
   ],
   "source": [
    "#sort by location, gender: Coffee & Café \n",
    "cs.groupby(['Location', 'Gender'])['Coffee & Café'].mean().sort_values(ascending=False)"
   ]
  },
  {
   "cell_type": "code",
   "execution_count": 115,
   "metadata": {},
   "outputs": [
    {
     "data": {
      "text/plain": [
       "Location        Gender\n",
       "Shopping Malls  Female    0.529954\n",
       "Train Stations  Female    0.504854\n",
       "Shopping Malls  Male      0.488235\n",
       "Train Stations  Male      0.440415\n",
       "Name: Big Gulp, dtype: float64"
      ]
     },
     "execution_count": 115,
     "metadata": {},
     "output_type": "execute_result"
    }
   ],
   "source": [
    "#sort by location, gender: Big Gulp \n",
    "cs.groupby(['Location', 'Gender'])['Big Gulp'].mean().sort_values(ascending=False)"
   ]
  },
  {
   "cell_type": "code",
   "execution_count": 119,
   "metadata": {},
   "outputs": [
    {
     "data": {
      "text/plain": [
       "Location        Gender\n",
       "Shopping Malls  Male      0.517647\n",
       "Train Stations  Male      0.476684\n",
       "Shopping Malls  Female    0.451613\n",
       "Train Stations  Female    0.451456\n",
       "Name: Bottled & Canned, dtype: float64"
      ]
     },
     "execution_count": 119,
     "metadata": {},
     "output_type": "execute_result"
    }
   ],
   "source": [
    "#sort by location, gender: Bottled & Canned \n",
    "cs.groupby(['Location', 'Gender'])['Bottled & Canned'].mean().sort_values(ascending=False)"
   ]
  },
  {
   "cell_type": "code",
   "execution_count": 125,
   "metadata": {},
   "outputs": [
    {
     "data": {
      "text/plain": [
       "Location        Gender\n",
       "Shopping Malls  Male      0.511765\n",
       "Train Stations  Female    0.495146\n",
       "                Male      0.481865\n",
       "Shopping Malls  Female    0.400922\n",
       "Name: Beer, dtype: float64"
      ]
     },
     "execution_count": 125,
     "metadata": {},
     "output_type": "execute_result"
    }
   ],
   "source": [
    "#sort by location, gender: beer \n",
    "cs.groupby(['Location', 'Gender'])['Beer'].mean().sort_values(ascending=False)"
   ]
  },
  {
   "cell_type": "code",
   "execution_count": 126,
   "metadata": {},
   "outputs": [
    {
     "data": {
      "text/plain": [
       "Location        Gender\n",
       "Train Stations  Female    0.509709\n",
       "                Male      0.481865\n",
       "Shopping Malls  Male      0.476471\n",
       "                Female    0.474654\n",
       "Name: Wine, dtype: float64"
      ]
     },
     "execution_count": 126,
     "metadata": {},
     "output_type": "execute_result"
    }
   ],
   "source": [
    "#sort by location, gender: Wine \n",
    "cs.groupby(['Location', 'Gender'])['Wine'].mean().sort_values(ascending=False)"
   ]
  },
  {
   "cell_type": "code",
   "execution_count": 131,
   "metadata": {},
   "outputs": [
    {
     "data": {
      "text/plain": [
       "Location        Gender\n",
       "Train Stations  Male      0.564767\n",
       "Shopping Malls  Female    0.534562\n",
       "                Male      0.447059\n",
       "Train Stations  Female    0.441748\n",
       "Name: Slurpee, dtype: float64"
      ]
     },
     "execution_count": 131,
     "metadata": {},
     "output_type": "execute_result"
    }
   ],
   "source": [
    "#sort by location, gender: Slurpee \n",
    "cs.groupby(['Location', 'Gender'])['Slurpee'].mean().sort_values(ascending=False)"
   ]
  },
  {
   "cell_type": "code",
   "execution_count": 135,
   "metadata": {},
   "outputs": [
    {
     "data": {
      "text/plain": [
       "Location        Gender\n",
       "Train Stations  Male      0.502591\n",
       "Shopping Malls  Female    0.502304\n",
       "                Male      0.482353\n",
       "Train Stations  Female    0.480583\n",
       "Name: Locally Made Meals, dtype: float64"
      ]
     },
     "execution_count": 135,
     "metadata": {},
     "output_type": "execute_result"
    }
   ],
   "source": [
    "#sort by location, gender: Locally Made Meals \n",
    "cs.groupby(['Location', 'Gender'])['Locally Made Meals'].mean().sort_values(ascending=False)"
   ]
  },
  {
   "cell_type": "code",
   "execution_count": 139,
   "metadata": {},
   "outputs": [
    {
     "data": {
      "text/plain": [
       "Location        Gender\n",
       "Shopping Malls  Male      0.529412\n",
       "Train Stations  Female    0.514563\n",
       "                Male      0.476684\n",
       "Shopping Malls  Female    0.456221\n",
       "Name: Snacks, dtype: float64"
      ]
     },
     "execution_count": 139,
     "metadata": {},
     "output_type": "execute_result"
    }
   ],
   "source": [
    "#sort by location, gender: Snacks \n",
    "cs.groupby(['Location', 'Gender'])['Snacks'].mean().sort_values(ascending=False)"
   ]
  },
  {
   "cell_type": "code",
   "execution_count": 143,
   "metadata": {},
   "outputs": [
    {
     "data": {
      "text/plain": [
       "Location        Gender\n",
       "Shopping Malls  Male      0.517647\n",
       "Train Stations  Female    0.514563\n",
       "Shopping Malls  Female    0.502304\n",
       "Train Stations  Male      0.435233\n",
       "Name: Pizza, dtype: float64"
      ]
     },
     "execution_count": 143,
     "metadata": {},
     "output_type": "execute_result"
    }
   ],
   "source": [
    "#sort by location, gender: Pizza \n",
    "cs.groupby(['Location', 'Gender'])['Pizza'].mean().sort_values(ascending=False)"
   ]
  },
  {
   "cell_type": "code",
   "execution_count": 147,
   "metadata": {},
   "outputs": [
    {
     "data": {
      "text/plain": [
       "Location        Gender\n",
       "Train Stations  Male      0.554404\n",
       "Shopping Malls  Male      0.541176\n",
       "Train Stations  Female    0.485437\n",
       "Shopping Malls  Female    0.465438\n",
       "Name: Breakfast, dtype: float64"
      ]
     },
     "execution_count": 147,
     "metadata": {},
     "output_type": "execute_result"
    }
   ],
   "source": [
    "#sort by location, gender: Breakfast \n",
    "cs.groupby(['Location', 'Gender'])['Breakfast'].mean().sort_values(ascending=False)"
   ]
  },
  {
   "cell_type": "code",
   "execution_count": 151,
   "metadata": {},
   "outputs": [
    {
     "data": {
      "text/plain": [
       "Location        Gender\n",
       "Train Stations  Male      0.523316\n",
       "Shopping Malls  Male      0.482353\n",
       "                Female    0.470046\n",
       "Train Stations  Female    0.466019\n",
       "Name: Barkery, dtype: float64"
      ]
     },
     "execution_count": 151,
     "metadata": {},
     "output_type": "execute_result"
    }
   ],
   "source": [
    "#sort by location, gender: Barkery \n",
    "cs.groupby(['Location', 'Gender'])['Barkery'].mean().sort_values(ascending=False)"
   ]
  },
  {
   "cell_type": "code",
   "execution_count": 155,
   "metadata": {},
   "outputs": [
    {
     "data": {
      "text/plain": [
       "Location        Gender\n",
       "Train Stations  Male      0.575130\n",
       "Shopping Malls  Male      0.517647\n",
       "Train Stations  Female    0.446602\n",
       "Shopping Malls  Female    0.414747\n",
       "Name: Sandwiches, dtype: float64"
      ]
     },
     "execution_count": 155,
     "metadata": {},
     "output_type": "execute_result"
    }
   ],
   "source": [
    "#sort by location, gender: Sandwiches \n",
    "cs.groupby(['Location', 'Gender'])['Sandwiches'].mean().sort_values(ascending=False)"
   ]
  },
  {
   "cell_type": "code",
   "execution_count": 159,
   "metadata": {},
   "outputs": [
    {
     "data": {
      "text/plain": [
       "Location        Gender\n",
       "Train Stations  Female    0.587379\n",
       "                Male      0.549223\n",
       "Shopping Malls  Female    0.520737\n",
       "                Male      0.405882\n",
       "Name: Healthy Choices, dtype: float64"
      ]
     },
     "execution_count": 159,
     "metadata": {},
     "output_type": "execute_result"
    }
   ],
   "source": [
    "#sort by location, gender: Healthy Choices \n",
    "cs.groupby(['Location', 'Gender'])['Healthy Choices'].mean().sort_values(ascending=False)"
   ]
  },
  {
   "cell_type": "code",
   "execution_count": 163,
   "metadata": {},
   "outputs": [
    {
     "data": {
      "text/plain": [
       "Location        Gender\n",
       "Shopping Malls  Male      0.547059\n",
       "                Female    0.529954\n",
       "Train Stations  Female    0.524272\n",
       "                Male      0.518135\n",
       "Name: Hot Foods, dtype: float64"
      ]
     },
     "execution_count": 163,
     "metadata": {},
     "output_type": "execute_result"
    }
   ],
   "source": [
    "#sort by location, gender: Hot Foods \n",
    "cs.groupby(['Location', 'Gender'])['Hot Foods'].mean().sort_values(ascending=False)"
   ]
  },
  {
   "cell_type": "markdown",
   "metadata": {},
   "source": [
    "# Analysis of location and gender, Top Sellers\n",
    "\n",
    "-  Coffee & Café: Train Station Males 58%\n",
    "-  Coffee & Café: Mall Males 50%\n",
    "-  Big Gulp: Mall Females 53%\n",
    "-  Big Gulp: Train Station Females 50%\n",
    "-  Bottled & Canned: Mall Males 52%\n",
    "-  Bottled & Canned: Train Station Males 48%\n",
    "-  Beer: Mall Males 51%\n",
    "-  Beer: Train Station Females 50%\n",
    "-  Wine: Train Station Females 51%\n",
    "-  Wine: Mall Males 48%\n",
    "-  Slurpee: Train Station Males 56%\n",
    "-  Slurpee: Mall Females 53%\n",
    "-  Locally Made Meals: Train Station Males 50%\n",
    "-  Locally Made Meals: Mall Females 50%\n",
    "-  Snacks: Mall Males 53%\n",
    "-  Snacks: Train Station 51%\n",
    "-  Pizza: Mall Males 52%\n",
    "-  Pizza: Train Station Females 51%\n",
    "-  Breakfast: Train Station Males 55%\n",
    "-  Breakfast: Mall Males 54%\n",
    "-  Barkery: Train Station Males 52%\n",
    "-  Barkery: Mall Males 48%\n",
    "-  Sandwiches: Train Station Males 58%\n",
    "-  Sandwiches: Mall Males 52%\n",
    "-  Healthy Choices: Train Station Females 58%\n",
    "-  Healthy Choices: Mall Females 52%\n",
    "-  Hot Foods: Mall Males 55%\n",
    "-  Hot Foods: Train Station Females 52%"
   ]
  },
  {
   "cell_type": "code",
   "execution_count": 112,
   "metadata": {},
   "outputs": [
    {
     "data": {
      "text/plain": [
       "Location        Age     \n",
       "Train Stations  22 to 31    0.591398\n",
       "                42 to 51    0.555556\n",
       "                Over 52     0.547170\n",
       "Shopping Malls  22 to 31    0.539216\n",
       "Train Stations  32 to 41    0.532258\n",
       "Shopping Malls  Over 52     0.526316\n",
       "                42 to 51    0.522388\n",
       "Train Stations  12 to 21    0.484375\n",
       "Shopping Malls  32 to 41    0.472222\n",
       "                12 to 21    0.453704\n",
       "Name: Coffee & Café, dtype: float64"
      ]
     },
     "execution_count": 112,
     "metadata": {},
     "output_type": "execute_result"
    }
   ],
   "source": [
    "#sort by location, age: Coffee & Café \n",
    "cs.groupby(['Location', 'Age'])['Coffee & Café'].mean().sort_values(ascending=False)"
   ]
  },
  {
   "cell_type": "code",
   "execution_count": 116,
   "metadata": {},
   "outputs": [
    {
     "data": {
      "text/plain": [
       "Location        Age     \n",
       "Shopping Malls  42 to 51    0.597015\n",
       "                Over 52     0.578947\n",
       "Train Stations  Over 52     0.547170\n",
       "Shopping Malls  12 to 21    0.518519\n",
       "Train Stations  32 to 41    0.516129\n",
       "Shopping Malls  22 to 31    0.500000\n",
       "Train Stations  12 to 21    0.468750\n",
       "                22 to 31    0.462366\n",
       "Shopping Malls  32 to 41    0.402778\n",
       "Train Stations  42 to 51    0.396825\n",
       "Name: Big Gulp, dtype: float64"
      ]
     },
     "execution_count": 116,
     "metadata": {},
     "output_type": "execute_result"
    }
   ],
   "source": [
    "#sort by location, age: Big Gulp \n",
    "cs.groupby(['Location', 'Age'])['Big Gulp'].mean().sort_values(ascending=False)"
   ]
  },
  {
   "cell_type": "code",
   "execution_count": 120,
   "metadata": {},
   "outputs": [
    {
     "data": {
      "text/plain": [
       "Location        Age     \n",
       "Train Stations  32 to 41    0.548387\n",
       "                12 to 21    0.523438\n",
       "Shopping Malls  22 to 31    0.509804\n",
       "                32 to 41    0.486111\n",
       "                12 to 21    0.481481\n",
       "                42 to 51    0.462687\n",
       "Train Stations  22 to 31    0.430108\n",
       "Shopping Malls  Over 52     0.421053\n",
       "Train Stations  42 to 51    0.396825\n",
       "                Over 52     0.358491\n",
       "Name: Bottled & Canned, dtype: float64"
      ]
     },
     "execution_count": 120,
     "metadata": {},
     "output_type": "execute_result"
    }
   ],
   "source": [
    "#sort by location, age: Bottled & Canned \n",
    "cs.groupby(['Location', 'Age'])['Bottled & Canned'].mean().sort_values(ascending=False)"
   ]
  },
  {
   "cell_type": "code",
   "execution_count": 127,
   "metadata": {},
   "outputs": [
    {
     "data": {
      "text/plain": [
       "Location        Age     \n",
       "Train Stations  32 to 41    0.564516\n",
       "                Over 52     0.528302\n",
       "Shopping Malls  42 to 51    0.507463\n",
       "Train Stations  22 to 31    0.494624\n",
       "                42 to 51    0.492063\n",
       "Shopping Malls  22 to 31    0.450980\n",
       "                Over 52     0.447368\n",
       "                32 to 41    0.444444\n",
       "Train Stations  12 to 21    0.429688\n",
       "Shopping Malls  12 to 21    0.416667\n",
       "Name: Beer, dtype: float64"
      ]
     },
     "execution_count": 127,
     "metadata": {},
     "output_type": "execute_result"
    }
   ],
   "source": [
    "#sort by location, age: beer \n",
    "cs.groupby(['Location', 'Age'])['Beer'].mean().sort_values(ascending=False)"
   ]
  },
  {
   "cell_type": "code",
   "execution_count": 128,
   "metadata": {},
   "outputs": [
    {
     "data": {
      "text/plain": [
       "Location        Age     \n",
       "Train Stations  Over 52     0.566038\n",
       "Shopping Malls  42 to 51    0.552239\n",
       "Train Stations  22 to 31    0.526882\n",
       "                32 to 41    0.500000\n",
       "Shopping Malls  Over 52     0.500000\n",
       "                12 to 21    0.500000\n",
       "Train Stations  12 to 21    0.484375\n",
       "Shopping Malls  22 to 31    0.470588\n",
       "Train Stations  42 to 51    0.412698\n",
       "Shopping Malls  32 to 41    0.361111\n",
       "Name: Wine, dtype: float64"
      ]
     },
     "execution_count": 128,
     "metadata": {},
     "output_type": "execute_result"
    }
   ],
   "source": [
    "#sort by location, age: Wine \n",
    "cs.groupby(['Location', 'Age'])['Wine'].mean().sort_values(ascending=False)"
   ]
  },
  {
   "cell_type": "code",
   "execution_count": 132,
   "metadata": {},
   "outputs": [
    {
     "data": {
      "text/plain": [
       "Location        Age     \n",
       "Shopping Malls  32 to 41    0.638889\n",
       "Train Stations  22 to 31    0.580645\n",
       "                Over 52     0.566038\n",
       "Shopping Malls  42 to 51    0.492537\n",
       "Train Stations  12 to 21    0.484375\n",
       "Shopping Malls  22 to 31    0.470588\n",
       "                Over 52     0.447368\n",
       "                12 to 21    0.444444\n",
       "Train Stations  32 to 41    0.435484\n",
       "                42 to 51    0.428571\n",
       "Name: Slurpee, dtype: float64"
      ]
     },
     "execution_count": 132,
     "metadata": {},
     "output_type": "execute_result"
    }
   ],
   "source": [
    "#sort by location, age: Slurpee \n",
    "cs.groupby(['Location', 'Age'])['Slurpee'].mean().sort_values(ascending=False)"
   ]
  },
  {
   "cell_type": "code",
   "execution_count": 136,
   "metadata": {},
   "outputs": [
    {
     "data": {
      "text/plain": [
       "Location        Age     \n",
       "Shopping Malls  Over 52     0.657895\n",
       "Train Stations  12 to 21    0.562500\n",
       "Shopping Malls  42 to 51    0.537313\n",
       "Train Stations  Over 52     0.528302\n",
       "Shopping Malls  32 to 41    0.500000\n",
       "                12 to 21    0.500000\n",
       "Train Stations  42 to 51    0.476190\n",
       "                32 to 41    0.435484\n",
       "                22 to 31    0.419355\n",
       "Shopping Malls  22 to 31    0.392157\n",
       "Name: Locally Made Meals, dtype: float64"
      ]
     },
     "execution_count": 136,
     "metadata": {},
     "output_type": "execute_result"
    }
   ],
   "source": [
    "#sort by location, age: Locally Made Meals \n",
    "cs.groupby(['Location', 'Age'])['Locally Made Meals'].mean().sort_values(ascending=False)"
   ]
  },
  {
   "cell_type": "code",
   "execution_count": 140,
   "metadata": {},
   "outputs": [
    {
     "data": {
      "text/plain": [
       "Location        Age     \n",
       "Train Stations  Over 52     0.566038\n",
       "                32 to 41    0.548387\n",
       "Shopping Malls  Over 52     0.526316\n",
       "                32 to 41    0.513889\n",
       "                22 to 31    0.509804\n",
       "Train Stations  22 to 31    0.505376\n",
       "                42 to 51    0.492063\n",
       "Shopping Malls  42 to 51    0.477612\n",
       "                12 to 21    0.444444\n",
       "Train Stations  12 to 21    0.437500\n",
       "Name: Snacks, dtype: float64"
      ]
     },
     "execution_count": 140,
     "metadata": {},
     "output_type": "execute_result"
    }
   ],
   "source": [
    "#sort by location, age: Snacks \n",
    "cs.groupby(['Location', 'Age'])['Snacks'].mean().sort_values(ascending=False)"
   ]
  },
  {
   "cell_type": "code",
   "execution_count": 144,
   "metadata": {},
   "outputs": [
    {
     "data": {
      "text/plain": [
       "Location        Age     \n",
       "Shopping Malls  12 to 21    0.592593\n",
       "Train Stations  42 to 51    0.555556\n",
       "Shopping Malls  42 to 51    0.507463\n",
       "Train Stations  22 to 31    0.483871\n",
       "Shopping Malls  Over 52     0.473684\n",
       "                32 to 41    0.472222\n",
       "Train Stations  Over 52     0.471698\n",
       "                12 to 21    0.460938\n",
       "Shopping Malls  22 to 31    0.460784\n",
       "Train Stations  32 to 41    0.419355\n",
       "Name: Pizza, dtype: float64"
      ]
     },
     "execution_count": 144,
     "metadata": {},
     "output_type": "execute_result"
    }
   ],
   "source": [
    "#sort by location, age: Pizza \n",
    "cs.groupby(['Location', 'Age'])['Pizza'].mean().sort_values(ascending=False)"
   ]
  },
  {
   "cell_type": "code",
   "execution_count": 148,
   "metadata": {},
   "outputs": [
    {
     "data": {
      "text/plain": [
       "Location        Age     \n",
       "Shopping Malls  22 to 31    0.558824\n",
       "Train Stations  22 to 31    0.548387\n",
       "                12 to 21    0.546875\n",
       "                Over 52     0.528302\n",
       "                42 to 51    0.507937\n",
       "Shopping Malls  32 to 41    0.500000\n",
       "                12 to 21    0.481481\n",
       "                42 to 51    0.477612\n",
       "                Over 52     0.421053\n",
       "Train Stations  32 to 41    0.419355\n",
       "Name: Breakfast, dtype: float64"
      ]
     },
     "execution_count": 148,
     "metadata": {},
     "output_type": "execute_result"
    }
   ],
   "source": [
    "#sort by location, age: Breakfast \n",
    "cs.groupby(['Location', 'Age'])['Breakfast'].mean().sort_values(ascending=False)"
   ]
  },
  {
   "cell_type": "code",
   "execution_count": 152,
   "metadata": {},
   "outputs": [
    {
     "data": {
      "text/plain": [
       "Location        Age     \n",
       "Train Stations  42 to 51    0.571429\n",
       "Shopping Malls  32 to 41    0.541667\n",
       "Train Stations  32 to 41    0.516129\n",
       "                Over 52     0.509434\n",
       "Shopping Malls  12 to 21    0.500000\n",
       "Train Stations  12 to 21    0.468750\n",
       "                22 to 31    0.451613\n",
       "Shopping Malls  42 to 51    0.447761\n",
       "                22 to 31    0.441176\n",
       "                Over 52     0.421053\n",
       "Name: Barkery, dtype: float64"
      ]
     },
     "execution_count": 152,
     "metadata": {},
     "output_type": "execute_result"
    }
   ],
   "source": [
    "#sort by location, age: Barkery \n",
    "cs.groupby(['Location', 'Age'])['Barkery'].mean().sort_values(ascending=False)"
   ]
  },
  {
   "cell_type": "code",
   "execution_count": 156,
   "metadata": {},
   "outputs": [
    {
     "data": {
      "text/plain": [
       "Location        Age     \n",
       "Train Stations  12 to 21    0.554688\n",
       "                42 to 51    0.539683\n",
       "                32 to 41    0.500000\n",
       "                Over 52     0.490566\n",
       "Shopping Malls  22 to 31    0.490196\n",
       "                42 to 51    0.477612\n",
       "                12 to 21    0.462963\n",
       "Train Stations  22 to 31    0.440860\n",
       "Shopping Malls  Over 52     0.421053\n",
       "                32 to 41    0.416667\n",
       "Name: Sandwiches, dtype: float64"
      ]
     },
     "execution_count": 156,
     "metadata": {},
     "output_type": "execute_result"
    }
   ],
   "source": [
    "#sort by location, age: Sandwiches \n",
    "cs.groupby(['Location', 'Age'])['Sandwiches'].mean().sort_values(ascending=False)"
   ]
  },
  {
   "cell_type": "code",
   "execution_count": 160,
   "metadata": {},
   "outputs": [
    {
     "data": {
      "text/plain": [
       "Location        Age     \n",
       "Train Stations  Over 52     0.679245\n",
       "                22 to 31    0.569892\n",
       "                32 to 41    0.564516\n",
       "                12 to 21    0.554688\n",
       "Shopping Malls  22 to 31    0.519608\n",
       "Train Stations  42 to 51    0.507937\n",
       "Shopping Malls  Over 52     0.473684\n",
       "                12 to 21    0.453704\n",
       "                42 to 51    0.447761\n",
       "                32 to 41    0.444444\n",
       "Name: Healthy Choices, dtype: float64"
      ]
     },
     "execution_count": 160,
     "metadata": {},
     "output_type": "execute_result"
    }
   ],
   "source": [
    "#sort by location, age: Healthy Choices \n",
    "cs.groupby(['Location', 'Age'])['Healthy Choices'].mean().sort_values(ascending=False)"
   ]
  },
  {
   "cell_type": "code",
   "execution_count": 164,
   "metadata": {},
   "outputs": [
    {
     "data": {
      "text/plain": [
       "Location        Age     \n",
       "Shopping Malls  Over 52     0.605263\n",
       "                42 to 51    0.582090\n",
       "Train Stations  22 to 31    0.548387\n",
       "                Over 52     0.547170\n",
       "                12 to 21    0.539062\n",
       "Shopping Malls  12 to 21    0.537037\n",
       "                32 to 41    0.513889\n",
       "                22 to 31    0.500000\n",
       "Train Stations  42 to 51    0.476190\n",
       "                32 to 41    0.467742\n",
       "Name: Hot Foods, dtype: float64"
      ]
     },
     "execution_count": 164,
     "metadata": {},
     "output_type": "execute_result"
    }
   ],
   "source": [
    "#sort by location, age: Hot Foods \n",
    "cs.groupby(['Location', 'Age'])['Hot Foods'].mean().sort_values(ascending=False)"
   ]
  },
  {
   "cell_type": "code",
   "execution_count": null,
   "metadata": {},
   "outputs": [],
   "source": []
  },
  {
   "cell_type": "markdown",
   "metadata": {},
   "source": [
    "# Analysis of location and age, Top Sellers\n",
    "\n",
    "-  Coffee & Café: Train Stations, 22 to 31, 59%\n",
    "-  Big Gulp: Shopping Malls, 42 to 51, 60%\n",
    "-  Bottled & Canned: Train Stations, 32 to 41, 55%\n",
    "-  Beer: Train Stations, 32 to 41, 57%\n",
    "-  Wine: Train Stations, Over 52, 57% \n",
    "-  Slurpee: Shopping Malls, 32 to 41, 64%\n",
    "-  Locally Made Meals: Shopping Malls, Over 52, 66%\n",
    "-  Snacks: Train Stations, Over 52, 57%\n",
    "-  Pizza: Shopping Malls, 12 to 21, 59%\n",
    "-  Breakfast: Shopping Malls, 22 to 31, 56%\n",
    "-  Barkery: Train Stations, 42 to 51, 57%\n",
    "-  Sandwiches: Train Stations, 12 to 21, 55%\n",
    "-  Healthy Choices: Train Stations, Over 52, 68%\n",
    "-  Hot Foods: Shopping Malls, Over 52, 61%"
   ]
  },
  {
   "cell_type": "markdown",
   "metadata": {},
   "source": [
    "# This analysis shows where to spend your advertising dollars."
   ]
  },
  {
   "cell_type": "markdown",
   "metadata": {},
   "source": [
    "Thank you for viewing"
   ]
  },
  {
   "cell_type": "code",
   "execution_count": null,
   "metadata": {},
   "outputs": [],
   "source": []
  }
 ],
 "metadata": {
  "kernelspec": {
   "display_name": "Python 3",
   "language": "python",
   "name": "python3"
  },
  "language_info": {
   "codemirror_mode": {
    "name": "ipython",
    "version": 3
   },
   "file_extension": ".py",
   "mimetype": "text/x-python",
   "name": "python",
   "nbconvert_exporter": "python",
   "pygments_lexer": "ipython3",
   "version": "3.8.5"
  }
 },
 "nbformat": 4,
 "nbformat_minor": 4
}
